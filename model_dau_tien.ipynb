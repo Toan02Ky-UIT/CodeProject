{
  "nbformat": 4,
  "nbformat_minor": 0,
  "metadata": {
    "colab": {
      "provenance": [],
      "authorship_tag": "ABX9TyP4+j2X6vp1/TLA1tsh4b7l",
      "include_colab_link": true
    },
    "kernelspec": {
      "name": "python3",
      "display_name": "Python 3"
    },
    "language_info": {
      "name": "python"
    }
  },
  "cells": [
    {
      "cell_type": "markdown",
      "metadata": {
        "id": "view-in-github",
        "colab_type": "text"
      },
      "source": [
        "<a href=\"https://colab.research.google.com/github/Toan02Ky-UIT/CodeProject/blob/main/model_dau_tien.ipynb\" target=\"_parent\"><img src=\"https://colab.research.google.com/assets/colab-badge.svg\" alt=\"Open In Colab\"/></a>"
      ]
    },
    {
      "cell_type": "code",
      "execution_count": null,
      "metadata": {
        "colab": {
          "base_uri": "https://localhost:8080/"
        },
        "id": "cyqqZrYkBz2H",
        "outputId": "6a0d8e56-ff76-4164-e54b-400af9a10d38"
      },
      "outputs": [
        {
          "output_type": "stream",
          "name": "stdout",
          "text": [
            "Mounted at /gdrive\n"
          ]
        }
      ],
      "source": [
        "from google.colab import drive\n",
        "drive.mount('/gdrive')"
      ]
    },
    {
      "cell_type": "code",
      "source": [
        "import pandas as pd\n",
        "df = pd.read_csv('/gdrive/MyDrive/Project/Bai2/annonimized.csv')\n"
      ],
      "metadata": {
        "id": "257aon7vB28p"
      },
      "execution_count": null,
      "outputs": []
    },
    {
      "cell_type": "code",
      "source": [
        "df = df.drop(columns=[\"concat('it001',`language_id`)\", 'updated_at'])"
      ],
      "metadata": {
        "id": "osajZXWZB801"
      },
      "execution_count": null,
      "outputs": []
    },
    {
      "cell_type": "code",
      "source": [
        "df = df.rename(columns={\n",
        "    \"concat('it001',`assignment_id`)\": \"assignment_id\",\n",
        "    \"concat('it001',`problem_id`)\": \"problem_id\",\n",
        "    \"concat('it001', username)\": \"username\"\n",
        "})\n"
      ],
      "metadata": {
        "id": "Za3v9qeaB905"
      },
      "execution_count": null,
      "outputs": []
    },
    {
      "cell_type": "code",
      "source": [
        "total_per_user = df.loc[df['is_final'] == 1].copy() #Có copy thì có bớt đi ít lỗi khó hiểu, cần tìm hiểu thêm\n",
        "total_per_user['total_coefficient'] = total_per_user['coefficient'] * total_per_user['pre_score']\n",
        "\n",
        "total_per_user = total_per_user.groupby('username', as_index=False)['total_coefficient'].sum()\n",
        "\n",
        "total_per_user.rename(columns={'coefficient': 'total_coefficient'}, inplace=True)"
      ],
      "metadata": {
        "id": "7RhevkpaB_xF"
      },
      "execution_count": null,
      "outputs": []
    },
    {
      "cell_type": "code",
      "source": [
        "assignment_count = df.groupby('username')['assignment_id'].nunique().reset_index()\n",
        "assignment_count.rename(columns={'assignment_id': 'num_assignments_submitted'}, inplace=True)"
      ],
      "metadata": {
        "id": "jC-hYBPWCBfN"
      },
      "execution_count": null,
      "outputs": []
    },
    {
      "cell_type": "code",
      "source": [
        "submission_count = df.groupby('username', as_index=False)['problem_id'].count()\n",
        "submission_count = submission_count.rename(columns={'problem_id': 'submission_count'})"
      ],
      "metadata": {
        "id": "pJG-3Ba_CB2S"
      },
      "execution_count": null,
      "outputs": []
    },
    {
      "cell_type": "code",
      "source": [
        "successful_submissions = df[(df['is_final'] == 1) & (df['pre_score'] == 10000)].copy()\n",
        "\n",
        "successful_assignment_count = successful_submissions.groupby('username')['assignment_id'].nunique().reset_index()\n",
        "successful_assignment_count.rename(columns={'assignment_id': 'num_assignments_solved'}, inplace=True)"
      ],
      "metadata": {
        "id": "tTWf7ZmZCC-H"
      },
      "execution_count": null,
      "outputs": []
    },
    {
      "cell_type": "code",
      "source": [
        "problem_count = df.groupby('username', as_index=False)['problem_id'].nunique()\n",
        "problem_count = problem_count.rename(columns={'problem_id': 'problem_count'})"
      ],
      "metadata": {
        "id": "fPnCtAPoCEWc"
      },
      "execution_count": null,
      "outputs": []
    },
    {
      "cell_type": "code",
      "source": [
        "solved = (df['is_final'] == 1) & (df['pre_score'] == 10000)\n",
        "problem_successful = df[solved].groupby('username', as_index=False)['problem_id'].nunique()\n",
        "problem_successful = problem_successful.rename(columns={'problem_id': 'problem_successful'})"
      ],
      "metadata": {
        "id": "kseedssQCGZq"
      },
      "execution_count": null,
      "outputs": []
    },
    {
      "cell_type": "code",
      "source": [
        "half_solved = (df['is_final'] == 1) & (df['pre_score'] < 10000)\n",
        "problem_not_successful = df[half_solved].groupby('username', as_index=False)['problem_id'].nunique()\n",
        "problem_not_successful = problem_not_successful.rename(columns={'problem_id': 'problem_not_successful'})"
      ],
      "metadata": {
        "id": "ZOpY95JJCHpq"
      },
      "execution_count": null,
      "outputs": []
    },
    {
      "cell_type": "code",
      "source": [
        "lated = (df['is_final'] == 1) & (df['coefficient'] < 100)\n",
        "problem_late = df[lated].groupby('username', as_index=False)['problem_id'].nunique()\n",
        "problem_late = problem_late.rename(columns={'problem_id': 'problem_late'})\n",
        "problem_late['problem_late'].fillna(0, inplace=True)"
      ],
      "metadata": {
        "colab": {
          "base_uri": "https://localhost:8080/"
        },
        "id": "vMQWI-peCJ5b",
        "outputId": "74f0b2fa-f3f0-4428-c38e-c356088b6f28"
      },
      "execution_count": null,
      "outputs": [
        {
          "output_type": "stream",
          "name": "stderr",
          "text": [
            "/tmp/ipython-input-12-1083889013.py:4: FutureWarning: A value is trying to be set on a copy of a DataFrame or Series through chained assignment using an inplace method.\n",
            "The behavior will change in pandas 3.0. This inplace method will never work because the intermediate object on which we are setting values always behaves as a copy.\n",
            "\n",
            "For example, when doing 'df[col].method(value, inplace=True)', try using 'df.method({col: value}, inplace=True)' or df[col] = df[col].method(value) instead, to perform the operation inplace on the original object.\n",
            "\n",
            "\n",
            "  problem_late['problem_late'].fillna(0, inplace=True)\n"
          ]
        }
      ]
    },
    {
      "cell_type": "code",
      "source": [
        "df['created_at'] = pd.to_datetime('2000-' + df['created_at'], format='%Y-%m-%d %H:%M:%S')"
      ],
      "metadata": {
        "id": "S7nlN1eWCMjz"
      },
      "execution_count": null,
      "outputs": []
    },
    {
      "cell_type": "code",
      "source": [
        "df['day'] = df['created_at'].dt.date\n",
        "\n",
        "days_active = df.groupby('username', as_index=False)['day'].nunique()"
      ],
      "metadata": {
        "id": "R5gS3sKGCNtd"
      },
      "execution_count": null,
      "outputs": []
    },
    {
      "cell_type": "code",
      "source": [
        "first_sub = df.groupby('username').head(1)[ ['username', 'created_at'] ]\n",
        "first_sub = first_sub.rename(columns={'created_at': 'first_sub_dt'})\n",
        "\n",
        "last_sub = df.groupby('username').tail(1)[ ['username', 'created_at'] ]\n",
        "last_sub = last_sub.rename(columns={'created_at': 'last_sub_dt'})\n",
        "\n",
        "time_range = first_sub.merge(last_sub, on='username')\n",
        "\n",
        "time_range['active_range_days'] = (time_range['last_sub_dt'] - time_range['first_sub_dt']).dt.days\n",
        "time_range.loc[time_range ['active_range_days'] < 0, 'active_range_days'] += 365"
      ],
      "metadata": {
        "id": "L5tHzUuKCO19"
      },
      "execution_count": null,
      "outputs": []
    },
    {
      "cell_type": "code",
      "source": [
        "first_1 = df.groupby(['username', 'assignment_id', 'problem_id']).head(1)[ ['username', 'assignment_id', 'problem_id', 'created_at'] ]\n",
        "first_1 = first_1.rename(columns={'created_at': 'first_submission'})\n",
        "\n",
        "last_1 = df.loc[(df['is_final']==1) & (df['pre_score'] == 10000)].groupby(['username',  'assignment_id', 'problem_id']).tail(1)[ ['username', 'assignment_id', 'problem_id', 'created_at'] ]\n",
        "last_1 = last_1.rename(columns={'created_at': 'last_submission'})\n",
        "\n",
        "avg_completion_time = pd.merge(first_1, last_1, on=['username', 'assignment_id', 'problem_id'], how='inner')\n",
        "avg_completion_time['completion_time'] = (avg_completion_time['last_submission'] - avg_completion_time['first_submission']).dt.total_seconds()/(60*60*24)\n",
        "avg_completion_time.loc[avg_completion_time['completion_time'] < 0, 'completion_time'] += 365\n",
        "\n",
        "avg_completion_time = avg_completion_time[avg_completion_time['completion_time'] > 0].groupby(['username'], as_index=False)['completion_time'].mean()\n",
        "\n",
        "avg_completion_time.rename(columns={'completion_time': 'avg_completion_time'}, inplace=True)"
      ],
      "metadata": {
        "id": "QzUawqNbCUqO"
      },
      "execution_count": null,
      "outputs": []
    },
    {
      "cell_type": "code",
      "source": [
        "first_submission = df.groupby(['username', 'assignment_id', 'problem_id']).head(1).copy()\n",
        "\n",
        "successful_first_submission = first_submission[(first_submission['is_final'] == 1) & (first_submission['pre_score'] == 10000)].copy()\n",
        "\n",
        "successful_first_submission_count = successful_first_submission.groupby('username')['problem_id'].count().reset_index()\n",
        "successful_first_submission_count.rename(columns={'problem_id': 'successful_first_submission_count'}, inplace=True)"
      ],
      "metadata": {
        "id": "ZbrAPEmBCWH6"
      },
      "execution_count": null,
      "outputs": []
    },
    {
      "cell_type": "code",
      "source": [
        "submissions_per_problem_per_student = df.groupby(['username', 'problem_id']).size().reset_index(name='num_submissions')\n",
        "\n",
        "avg_submissions_per_problem = submissions_per_problem_per_student.groupby('problem_id')['num_submissions'].mean().reset_index()\n",
        "avg_submissions_per_problem.rename(columns={'num_submissions': 'avg_submissions_per_problem'}, inplace=True)"
      ],
      "metadata": {
        "id": "amZWB7DmCXjY"
      },
      "execution_count": null,
      "outputs": []
    },
    {
      "cell_type": "code",
      "source": [
        "df_sorted = df.sort_values(by=['username', 'assignment_id', 'problem_id', 'created_at'])\n",
        "\n",
        "df_sorted['time_diff'] = df_sorted.groupby(['username', 'assignment_id', 'problem_id'])['created_at'].diff()\n",
        "df_sorted['time_diff_seconds'] = df_sorted['time_diff'].dt.total_seconds()/(60*60*24)\n",
        "\n",
        "avg_time_diff_per_problem = df_sorted.groupby(['username', 'assignment_id', 'problem_id'])['time_diff_seconds'].mean().reset_index()\n",
        "avg_time_diff_per_assignment = avg_time_diff_per_problem.groupby(['username', 'assignment_id'])['time_diff_seconds'].mean().reset_index()\n",
        "\n",
        "avg_time_diff_per_assignment.rename(columns={'time_diff_seconds': 'avg_time_diff_in_assignment'}, inplace=True)\n",
        "avg_time_diff_overall = avg_time_diff_per_assignment.groupby('username')['avg_time_diff_in_assignment'].mean().reset_index()\n",
        "\n",
        "avg_time_diff_overall.rename(columns={'avg_time_diff_in_assignment': 'avg_inter_submission_time_per_assignment'}, inplace=True)"
      ],
      "metadata": {
        "id": "YwSfEuVXUL65"
      },
      "execution_count": null,
      "outputs": []
    },
    {
      "cell_type": "code",
      "source": [
        "first_submission = df.groupby(['username', 'assignment_id', 'problem_id']).head(1).copy()\n",
        "\n",
        "successful_first_submission = first_submission[(first_submission['is_final'] == 1) & (first_submission['pre_score'] == 10000)].copy()\n",
        "\n",
        "successful_first_submission_count = successful_first_submission.groupby('username')['problem_id'].count().reset_index()\n",
        "successful_first_submission_count.rename(columns={'problem_id': 'successful_first_submission_count'}, inplace=True)\n"
      ],
      "metadata": {
        "id": "_una-OgJUaQ8"
      },
      "execution_count": null,
      "outputs": []
    },
    {
      "cell_type": "code",
      "source": [
        "successful_students_per_problem = df[\n",
        "    (df['is_final'] == 1) & (df['pre_score'] == 10000)\n",
        "].groupby('problem_id')['username'].nunique().reset_index()\n",
        "successful_students_per_problem.rename(columns={'username': 'num_successful_students'}, inplace=True)\n",
        "\n",
        "total_students_per_problem = df.groupby('problem_id')['username'].nunique().reset_index()\n",
        "total_students_per_problem.rename(columns={'username': 'num_total_students'}, inplace=True)\n",
        "\n",
        "problem_success_rate = pd.merge(successful_students_per_problem, total_students_per_problem, on='problem_id', how='left')\n",
        "\n",
        "problem_success_rate['student_success_rate'] = (problem_success_rate['num_successful_students'] / problem_success_rate['num_total_students']) * 100\n",
        "\n",
        "problem_success_rate['student_success_rate'] = problem_success_rate['student_success_rate'].fillna(0)"
      ],
      "metadata": {
        "id": "gGcAoa_nUbRR"
      },
      "execution_count": null,
      "outputs": []
    },
    {
      "cell_type": "code",
      "source": [
        "submissions_per_problem_per_student = df.groupby(['username', 'problem_id']).size().reset_index(name='num_submissions')\n",
        "\n",
        "avg_submissions_per_problem = submissions_per_problem_per_student.groupby('problem_id')['num_submissions'].mean().reset_index()\n",
        "avg_submissions_per_problem.rename(columns={'num_submissions': 'avg_submissions_per_problem'}, inplace=True)"
      ],
      "metadata": {
        "id": "34mGCKsTUdfG"
      },
      "execution_count": null,
      "outputs": []
    },
    {
      "cell_type": "code",
      "source": [
        "problem_difficulty = pd.merge(problem_success_rate[['problem_id', 'student_success_rate']], avg_submissions_per_problem, on='problem_id', how='left')\n",
        "\n",
        "problem_difficulty['avg_submissions_per_problem'].fillna(0, inplace=True)\n",
        "\n",
        "success_rate_threshold = 30\n",
        "avg_submissions_threshold = 3.5\n",
        "\n",
        "hard_problems = problem_difficulty[\n",
        "    (problem_difficulty['student_success_rate'] < success_rate_threshold) &\n",
        "    (problem_difficulty['avg_submissions_per_problem'] > avg_submissions_threshold)\n",
        "]['problem_id'].tolist()\n",
        "\n",
        "print(\"Các problem được coi là khó:\", hard_problems)"
      ],
      "metadata": {
        "colab": {
          "base_uri": "https://localhost:8080/"
        },
        "id": "dzqjPRifUsHY",
        "outputId": "2ac8fc51-d9db-4e73-9891-38a424f93c92"
      },
      "execution_count": null,
      "outputs": [
        {
          "output_type": "stream",
          "name": "stdout",
          "text": [
            "Các problem được coi là khó: ['04681b16ae128da4be6bcdf7ae98b4c294ed20b5', '1caa82b6f5dd4d3821e16eb5bab47065c2d3fdd2', '28770d748d2e1d0e61280452505f938b32e3027e', '564a08c59baf99960947f1d01712a90758339043', '6ed29be1551f4966abbe6046a264ea2aa6d60302', '8c1495329b9727d0ec90edc8c9f0ac71f9785f9d', 'cc84d5fd74bf68bf6a2f7394c191b00a21167d49', 'ea4bf1c5098a2f435cd8b6ae3e3186678f641a63', 'ee79b6ec74701ad76dc37a2ad254231d9ca95ddc']\n"
          ]
        },
        {
          "output_type": "stream",
          "name": "stderr",
          "text": [
            "/tmp/ipython-input-23-805274638.py:3: FutureWarning: A value is trying to be set on a copy of a DataFrame or Series through chained assignment using an inplace method.\n",
            "The behavior will change in pandas 3.0. This inplace method will never work because the intermediate object on which we are setting values always behaves as a copy.\n",
            "\n",
            "For example, when doing 'df[col].method(value, inplace=True)', try using 'df.method({col: value}, inplace=True)' or df[col] = df[col].method(value) instead, to perform the operation inplace on the original object.\n",
            "\n",
            "\n",
            "  problem_difficulty['avg_submissions_per_problem'].fillna(0, inplace=True)\n"
          ]
        }
      ]
    },
    {
      "cell_type": "code",
      "source": [
        "successful_submissions = df[(df['is_final'] == 1) & (df['pre_score'] == 10000)].copy()\n",
        "\n",
        "successful_hard_problem_submissions = successful_submissions[\n",
        "    successful_submissions['problem_id'].isin(hard_problems)\n",
        "]\n",
        "\n",
        "num_hard_problems_solved_per_student = successful_hard_problem_submissions.groupby('username')['problem_id'].nunique().reset_index()\n",
        "num_hard_problems_solved_per_student.rename(columns={'problem_id': 'num_hard_problems_solved'}, inplace=True)\n"
      ],
      "metadata": {
        "id": "NmFXrxIjUwL8"
      },
      "execution_count": null,
      "outputs": []
    },
    {
      "cell_type": "code",
      "source": [
        "unique_usernames_array = df['username'].unique()\n",
        "data = pd.DataFrame(unique_usernames_array, columns=['username'])\n",
        "\n",
        "data = pd.merge(data, total_per_user, on='username', how='left')\n",
        "data = pd.merge(data, assignment_count, on='username', how='left')\n",
        "data = pd.merge(data, successful_assignment_count, on='username', how='left')\n",
        "data = pd.merge(data, submission_count, on='username', how='left')\n",
        "data = pd.merge(data, problem_count, on='username', how='left')\n",
        "data = pd.merge(data, problem_successful, on='username', how='left')\n",
        "data = pd.merge(data, problem_not_successful, on='username', how='left')\n",
        "data = pd.merge(data, problem_late, on='username', how='left')\n",
        "data = pd.merge(data, days_active, on='username', how='left')\n",
        "data = pd.merge(data, time_range[['username','active_range_days']], on='username', how='left')\n",
        "data = pd.merge(data, avg_completion_time, on='username', how='left')\n",
        "data = pd.merge(data, avg_time_diff_overall, on='username', how='left')\n",
        "data = pd.merge(data, successful_first_submission_count, on='username', how='left')\n",
        "data = pd.merge(data, num_hard_problems_solved_per_student, on='username', how='left')"
      ],
      "metadata": {
        "id": "6fNQRnp8Uw_F"
      },
      "execution_count": null,
      "outputs": []
    },
    {
      "cell_type": "code",
      "source": [
        "data['total_coefficient'] = data['total_coefficient'].fillna(0)\n",
        "data['num_assignments_solved'] = data['num_assignments_solved'].fillna(0)\n",
        "data['problem_successful'] = data['problem_successful'].fillna(0)\n",
        "data['problem_not_successful'] = data['problem_not_successful'].fillna(0)\n",
        "data['problem_late'] = data['problem_late'].fillna(0)\n",
        "data['avg_completion_time'] = data['avg_completion_time'].fillna(0)\n",
        "data['avg_inter_submission_time_per_assignment'] = data['avg_inter_submission_time_per_assignment'].fillna(0)\n",
        "data['successful_first_submission_count'] = data['successful_first_submission_count'].fillna(0)\n",
        "data['num_hard_problems_solved'] = data['num_hard_problems_solved'].fillna(0)"
      ],
      "metadata": {
        "id": "3Ud9b6FcUzuc"
      },
      "execution_count": null,
      "outputs": []
    },
    {
      "cell_type": "code",
      "source": [
        "data['percent_solved'] = (data['problem_successful'] / data['problem_count']) * 100"
      ],
      "metadata": {
        "id": "4gvcKbITU1Ag"
      },
      "execution_count": null,
      "outputs": []
    },
    {
      "cell_type": "code",
      "source": [
        "data['percent_submit'] = (data['problem_successful'] / data['submission_count']) * 100"
      ],
      "metadata": {
        "id": "GXdTphvBU1Ty"
      },
      "execution_count": null,
      "outputs": []
    },
    {
      "cell_type": "code",
      "source": [
        "data['score_per_problem'] = data['total_coefficient'] / data['problem_count']"
      ],
      "metadata": {
        "id": "0wK7IzSfU3Eo"
      },
      "execution_count": null,
      "outputs": []
    },
    {
      "cell_type": "code",
      "source": [
        "data['percent_active'] = 0\n",
        "\n",
        "data.loc[data['active_range_days'] > 0, 'percent_active'] = (data.loc[data['active_range_days'] > 0, 'day'] / data.loc[data['active_range_days'] > 0, 'active_range_days']) * 100\n"
      ],
      "metadata": {
        "colab": {
          "base_uri": "https://localhost:8080/"
        },
        "id": "QfmVA1GcU3Us",
        "outputId": "2a95f634-17d1-4284-9cf6-93f813961ece"
      },
      "execution_count": null,
      "outputs": [
        {
          "output_type": "stream",
          "name": "stderr",
          "text": [
            "/tmp/ipython-input-30-1207481186.py:3: FutureWarning: Setting an item of incompatible dtype is deprecated and will raise an error in a future version of pandas. Value '[14.28571429 31.03448276 17.14285714 ... 15.7480315  20.75471698\n",
            " 29.09090909]' has dtype incompatible with int64, please explicitly cast to a compatible dtype first.\n",
            "  data.loc[data['active_range_days'] > 0, 'percent_active'] = (data.loc[data['active_range_days'] > 0, 'day'] / data.loc[data['active_range_days'] > 0, 'active_range_days']) * 100\n"
          ]
        }
      ]
    },
    {
      "cell_type": "code",
      "source": [
        "data['percent_first_submit_success'] = (data['successful_first_submission_count'] / data['problem_successful']) * 100\n",
        "data['percent_first_submit_success'] = data['percent_first_submit_success'].fillna(0)"
      ],
      "metadata": {
        "id": "18GNQ8c4U4dA"
      },
      "execution_count": null,
      "outputs": []
    },
    {
      "cell_type": "code",
      "source": [
        "data['total_coefficient_per_day'] = data['total_coefficient'] / data['day']\n",
        "data['total_coefficient_per_day'] = data['total_coefficient_per_day'].fillna(0)\n"
      ],
      "metadata": {
        "id": "qhnQKaznU6GX"
      },
      "execution_count": null,
      "outputs": []
    },
    {
      "cell_type": "code",
      "source": [
        "df_scores = pd.read_csv('/gdrive/MyDrive/Project/Bai2/qt-public.csv')"
      ],
      "metadata": {
        "id": "XfVGOMeDU7GU"
      },
      "execution_count": null,
      "outputs": []
    },
    {
      "cell_type": "code",
      "source": [
        "df_scores = df_scores.rename(columns={\n",
        "    \"hash\": \"username\"\n",
        "})"
      ],
      "metadata": {
        "id": "CGuiVgkrVQ3y"
      },
      "execution_count": null,
      "outputs": []
    },
    {
      "cell_type": "code",
      "source": [
        "data_final = pd.merge(data, df_scores, on='username', how='left')"
      ],
      "metadata": {
        "id": "6icNTwTGVR_n"
      },
      "execution_count": null,
      "outputs": []
    },
    {
      "cell_type": "code",
      "source": [
        "df_test = data_final[data_final['diemqt'].isna()]\n",
        "\n",
        "df_train = data_final[data_final['diemqt'].notna()]"
      ],
      "metadata": {
        "id": "LswPU1TeVTD6"
      },
      "execution_count": null,
      "outputs": []
    },
    {
      "cell_type": "code",
      "source": [
        "df_train['diemqt'] = df_train['diemqt'].replace(r'^\\s*$', 0, regex=True)\n",
        "df_train['diemqt'] = df_train['diemqt'].astype(float)"
      ],
      "metadata": {
        "colab": {
          "base_uri": "https://localhost:8080/"
        },
        "id": "3LQb2UEWVUg1",
        "outputId": "2d1cec15-2d3a-4db6-9fbb-31904b677a67"
      },
      "execution_count": null,
      "outputs": [
        {
          "output_type": "stream",
          "name": "stderr",
          "text": [
            "/tmp/ipython-input-37-1220815538.py:1: SettingWithCopyWarning: \n",
            "A value is trying to be set on a copy of a slice from a DataFrame.\n",
            "Try using .loc[row_indexer,col_indexer] = value instead\n",
            "\n",
            "See the caveats in the documentation: https://pandas.pydata.org/pandas-docs/stable/user_guide/indexing.html#returning-a-view-versus-a-copy\n",
            "  df_train['diemqt'] = df_train['diemqt'].replace(r'^\\s*$', 0, regex=True)\n",
            "/tmp/ipython-input-37-1220815538.py:2: SettingWithCopyWarning: \n",
            "A value is trying to be set on a copy of a slice from a DataFrame.\n",
            "Try using .loc[row_indexer,col_indexer] = value instead\n",
            "\n",
            "See the caveats in the documentation: https://pandas.pydata.org/pandas-docs/stable/user_guide/indexing.html#returning-a-view-versus-a-copy\n",
            "  df_train['diemqt'] = df_train['diemqt'].astype(float)\n"
          ]
        }
      ]
    },
    {
      "cell_type": "code",
      "source": [
        "y_train = df_train['diemqt']\n",
        "\n",
        "X_train = df_train.drop(columns=['username', 'diemqt'])\n",
        "\n",
        "X_test = df_test.drop(columns=['username', 'diemqt'])"
      ],
      "metadata": {
        "id": "XWtuCP4OVWZl"
      },
      "execution_count": null,
      "outputs": []
    },
    {
      "cell_type": "code",
      "source": [
        "from sklearn.model_selection import train_test_split\n",
        "X_train_split, X_val_split, y_train_split, y_val_split = train_test_split(X_train, y_train, test_size=0.2, random_state=42)"
      ],
      "metadata": {
        "id": "4pPCHyGlVqMu"
      },
      "execution_count": null,
      "outputs": []
    },
    {
      "cell_type": "code",
      "source": [
        "#273072\n",
        "from sklearn.ensemble import RandomForestRegressor\n",
        "from sklearn.metrics import r2_score\n",
        "\n",
        "model = RandomForestRegressor(random_state=42, max_depth=10, min_samples_split=10, n_estimators=100)\n",
        "model.fit(X_train_split, y_train_split)\n",
        "\n",
        "# Đánh giá trên tập validation\n",
        "y_pred_val = model.predict(X_val_split)\n",
        "r2 = r2_score(y_val_split, y_pred_val)\n",
        "print(f\"R^2 score trên tập validation: {r2}\")"
      ],
      "metadata": {
        "colab": {
          "base_uri": "https://localhost:8080/"
        },
        "id": "kPEzgvFCdPYm",
        "outputId": "b83b8efa-bf07-437a-a1ce-38c28f9e3cf8"
      },
      "execution_count": null,
      "outputs": [
        {
          "output_type": "stream",
          "name": "stdout",
          "text": [
            "R^2 score trên tập validation: 0.15518826673419606\n"
          ]
        }
      ]
    },
    {
      "cell_type": "code",
      "source": [
        "#273074\n",
        "from sklearn.model_selection import GridSearchCV\n",
        "param_grid = {\n",
        "    'n_estimators': [100, 200, 300],\n",
        "    'max_depth': [None, 5, 10, 15],\n",
        "    'min_samples_split': [2, 5, 10],\n",
        "    'min_samples_leaf': [1, 2, 4]\n",
        "}\n",
        "rf = RandomForestRegressor(random_state=42)\n",
        "\n",
        "grid_search = GridSearchCV(estimator=rf, param_grid=param_grid, cv=5, scoring='r2', n_jobs=-1)\n",
        "grid_search.fit(X_train_split, y_train_split)\n",
        "print(\"Best parameters found: \", grid_search.best_params_)\n",
        "print(\"Best R^2 score found: \", grid_search.best_score_)"
      ],
      "metadata": {
        "colab": {
          "base_uri": "https://localhost:8080/"
        },
        "id": "Ry886qXmou-r",
        "outputId": "ecbca2c7-8696-429e-bf32-44e5cd3f5222"
      },
      "execution_count": null,
      "outputs": [
        {
          "output_type": "stream",
          "name": "stdout",
          "text": [
            "Best parameters found:  {'max_depth': None, 'min_samples_leaf': 4, 'min_samples_split': 10, 'n_estimators': 300}\n",
            "Best R^2 score found:  0.060147566076869705\n"
          ]
        }
      ]
    },
    {
      "cell_type": "code",
      "source": [
        "y_pred_val_1 = grid_search.predict(X_val_split)\n",
        "r2 = r2_score(y_val_split, y_pred_val_1)\n",
        "print(f\"R^2 score trên tập validation: {r2}\")"
      ],
      "metadata": {
        "colab": {
          "base_uri": "https://localhost:8080/"
        },
        "id": "OMHLXo2OpUTc",
        "outputId": "5d79ca9f-5d4c-4304-f42a-9b719ffa6861"
      },
      "execution_count": null,
      "outputs": [
        {
          "output_type": "stream",
          "name": "stdout",
          "text": [
            "R^2 score trên tập validation: 0.1737413079396538\n"
          ]
        }
      ]
    },
    {
      "cell_type": "code",
      "source": [
        "predictions = grid_search.predict(X_test)\n",
        "\n",
        "df_test['diemqt'] = predictions\n",
        "\n",
        "df_test"
      ],
      "metadata": {
        "colab": {
          "base_uri": "https://localhost:8080/",
          "height": 547
        },
        "id": "mlSHFIXKkHL3",
        "outputId": "28a02d9e-df66-400f-e589-5f15d1556a21"
      },
      "execution_count": null,
      "outputs": [
        {
          "output_type": "stream",
          "name": "stderr",
          "text": [
            "/tmp/ipython-input-49-3576848380.py:3: SettingWithCopyWarning: \n",
            "A value is trying to be set on a copy of a slice from a DataFrame.\n",
            "Try using .loc[row_indexer,col_indexer] = value instead\n",
            "\n",
            "See the caveats in the documentation: https://pandas.pydata.org/pandas-docs/stable/user_guide/indexing.html#returning-a-view-versus-a-copy\n",
            "  df_test['diemqt'] = predictions\n"
          ]
        },
        {
          "output_type": "execute_result",
          "data": {
            "text/plain": [
              "                                      username  total_coefficient  \\\n",
              "0     ed9eaeb6a707f50154024b24d7efcb874a9795dd         56850000.0   \n",
              "1     ba12c0a2cb367af0467e479c03507c71a805d291        117000000.0   \n",
              "3     b7298b0fe50443a623af9b56792b330c2d052845        109030700.0   \n",
              "4     c60be70309789b39355dc612f36e37090ccad5dc         80700000.0   \n",
              "6     a22a58c5be8aa2c2700619e37f2b7a6e4efa7e6b        100422200.0   \n",
              "...                                        ...                ...   \n",
              "1482  508e0627871ed482bd8ab34544e43e5d856a889c         33000000.0   \n",
              "1483  d525d6edf4b0c6362ddaa4814c3930a6a62bdc99         97600000.0   \n",
              "1484  b722e6209f2858faf0bf80947cadcbde586bb666         23788800.0   \n",
              "1486  b45e8d507778dab56f381a681c453cbf4d3b4050         46700000.0   \n",
              "1487  ea385e57f5d3d6841a6997dd7af680e135928bca        111000000.0   \n",
              "\n",
              "      num_assignments_submitted  num_assignments_solved  submission_count  \\\n",
              "0                             5                     5.0               139   \n",
              "1                             6                     6.0               319   \n",
              "3                             5                     5.0               247   \n",
              "4                            10                     9.0               172   \n",
              "6                            11                    11.0               288   \n",
              "...                         ...                     ...               ...   \n",
              "1482                          4                     4.0                94   \n",
              "1483                         10                    10.0               217   \n",
              "1484                          3                     3.0               136   \n",
              "1486                         10                     8.0               141   \n",
              "1487                          6                     6.0               215   \n",
              "\n",
              "      problem_count  problem_successful  problem_not_successful  problem_late  \\\n",
              "0                58                56.0                     2.0           0.0   \n",
              "1               112               112.0                     0.0           0.0   \n",
              "3               110               108.0                     2.0           0.0   \n",
              "4                83                76.0                     7.0           0.0   \n",
              "6               103                98.0                     5.0           0.0   \n",
              "...             ...                 ...                     ...           ...   \n",
              "1482             33                33.0                     0.0           0.0   \n",
              "1483             98                97.0                     1.0           0.0   \n",
              "1484             26                22.0                     3.0           0.0   \n",
              "1486             53                45.0                     9.0           0.0   \n",
              "1487            109               108.0                     1.0           0.0   \n",
              "\n",
              "      day  ...  avg_inter_submission_time_per_assignment  \\\n",
              "0      16  ...                                  0.036895   \n",
              "1      36  ...                                  5.618592   \n",
              "3      29  ...                                  7.925966   \n",
              "4      23  ...                                  0.099128   \n",
              "6      38  ...                                  0.274017   \n",
              "...   ...  ...                                       ...   \n",
              "1482   10  ...                                  1.052288   \n",
              "1483   24  ...                                  0.716111   \n",
              "1484   10  ...                                  0.184549   \n",
              "1486   20  ...                                  0.103256   \n",
              "1487   22  ...                                  2.001699   \n",
              "\n",
              "      successful_first_submission_count  num_hard_problems_solved  \\\n",
              "0                                  30.0                       0.0   \n",
              "1                                  58.0                       0.0   \n",
              "3                                  62.0                       0.0   \n",
              "4                                  44.0                       0.0   \n",
              "6                                  51.0                       0.0   \n",
              "...                                 ...                       ...   \n",
              "1482                               15.0                       0.0   \n",
              "1483                               64.0                       0.0   \n",
              "1484                                6.0                       0.0   \n",
              "1486                               23.0                       0.0   \n",
              "1487                               74.0                       2.0   \n",
              "\n",
              "      percent_solved  percent_submit  score_per_problem  percent_active  \\\n",
              "0          96.551724       40.287770       9.801724e+05       14.285714   \n",
              "1         100.000000       35.109718       1.044643e+06       31.034483   \n",
              "3          98.181818       43.724696       9.911882e+05       23.200000   \n",
              "4          91.566265       44.186047       9.722892e+05       21.698113   \n",
              "6          95.145631       34.027778       9.749728e+05       35.185185   \n",
              "...              ...             ...                ...             ...   \n",
              "1482      100.000000       35.106383       1.000000e+06       26.315789   \n",
              "1483       98.979592       44.700461       9.959184e+05       21.818182   \n",
              "1484       84.615385       16.176471       9.149538e+05       22.222222   \n",
              "1486       84.905660       31.914894       8.811321e+05       15.748031   \n",
              "1487       99.082569       50.232558       1.018349e+06       20.754717   \n",
              "\n",
              "      percent_first_submit_success  total_coefficient_per_day    diemqt  \n",
              "0                        53.571429               3.553125e+06  8.003929  \n",
              "1                        51.785714               3.250000e+06  8.658890  \n",
              "3                        57.407407               3.759679e+06  8.519961  \n",
              "4                        57.894737               3.508696e+06  8.727824  \n",
              "6                        52.040816               2.642689e+06  9.305354  \n",
              "...                            ...                        ...       ...  \n",
              "1482                     45.454545               3.300000e+06  6.711842  \n",
              "1483                     65.979381               4.066667e+06  8.524780  \n",
              "1484                     27.272727               2.378880e+06  6.659132  \n",
              "1486                     51.111111               2.335000e+06  8.203376  \n",
              "1487                     68.518519               5.045455e+06  7.745895  \n",
              "\n",
              "[734 rows x 22 columns]"
            ],
            "text/html": [
              "\n",
              "  <div id=\"df-68cfe410-ba79-48fe-8879-0b275dd22ae3\" class=\"colab-df-container\">\n",
              "    <div>\n",
              "<style scoped>\n",
              "    .dataframe tbody tr th:only-of-type {\n",
              "        vertical-align: middle;\n",
              "    }\n",
              "\n",
              "    .dataframe tbody tr th {\n",
              "        vertical-align: top;\n",
              "    }\n",
              "\n",
              "    .dataframe thead th {\n",
              "        text-align: right;\n",
              "    }\n",
              "</style>\n",
              "<table border=\"1\" class=\"dataframe\">\n",
              "  <thead>\n",
              "    <tr style=\"text-align: right;\">\n",
              "      <th></th>\n",
              "      <th>username</th>\n",
              "      <th>total_coefficient</th>\n",
              "      <th>num_assignments_submitted</th>\n",
              "      <th>num_assignments_solved</th>\n",
              "      <th>submission_count</th>\n",
              "      <th>problem_count</th>\n",
              "      <th>problem_successful</th>\n",
              "      <th>problem_not_successful</th>\n",
              "      <th>problem_late</th>\n",
              "      <th>day</th>\n",
              "      <th>...</th>\n",
              "      <th>avg_inter_submission_time_per_assignment</th>\n",
              "      <th>successful_first_submission_count</th>\n",
              "      <th>num_hard_problems_solved</th>\n",
              "      <th>percent_solved</th>\n",
              "      <th>percent_submit</th>\n",
              "      <th>score_per_problem</th>\n",
              "      <th>percent_active</th>\n",
              "      <th>percent_first_submit_success</th>\n",
              "      <th>total_coefficient_per_day</th>\n",
              "      <th>diemqt</th>\n",
              "    </tr>\n",
              "  </thead>\n",
              "  <tbody>\n",
              "    <tr>\n",
              "      <th>0</th>\n",
              "      <td>ed9eaeb6a707f50154024b24d7efcb874a9795dd</td>\n",
              "      <td>56850000.0</td>\n",
              "      <td>5</td>\n",
              "      <td>5.0</td>\n",
              "      <td>139</td>\n",
              "      <td>58</td>\n",
              "      <td>56.0</td>\n",
              "      <td>2.0</td>\n",
              "      <td>0.0</td>\n",
              "      <td>16</td>\n",
              "      <td>...</td>\n",
              "      <td>0.036895</td>\n",
              "      <td>30.0</td>\n",
              "      <td>0.0</td>\n",
              "      <td>96.551724</td>\n",
              "      <td>40.287770</td>\n",
              "      <td>9.801724e+05</td>\n",
              "      <td>14.285714</td>\n",
              "      <td>53.571429</td>\n",
              "      <td>3.553125e+06</td>\n",
              "      <td>8.003929</td>\n",
              "    </tr>\n",
              "    <tr>\n",
              "      <th>1</th>\n",
              "      <td>ba12c0a2cb367af0467e479c03507c71a805d291</td>\n",
              "      <td>117000000.0</td>\n",
              "      <td>6</td>\n",
              "      <td>6.0</td>\n",
              "      <td>319</td>\n",
              "      <td>112</td>\n",
              "      <td>112.0</td>\n",
              "      <td>0.0</td>\n",
              "      <td>0.0</td>\n",
              "      <td>36</td>\n",
              "      <td>...</td>\n",
              "      <td>5.618592</td>\n",
              "      <td>58.0</td>\n",
              "      <td>0.0</td>\n",
              "      <td>100.000000</td>\n",
              "      <td>35.109718</td>\n",
              "      <td>1.044643e+06</td>\n",
              "      <td>31.034483</td>\n",
              "      <td>51.785714</td>\n",
              "      <td>3.250000e+06</td>\n",
              "      <td>8.658890</td>\n",
              "    </tr>\n",
              "    <tr>\n",
              "      <th>3</th>\n",
              "      <td>b7298b0fe50443a623af9b56792b330c2d052845</td>\n",
              "      <td>109030700.0</td>\n",
              "      <td>5</td>\n",
              "      <td>5.0</td>\n",
              "      <td>247</td>\n",
              "      <td>110</td>\n",
              "      <td>108.0</td>\n",
              "      <td>2.0</td>\n",
              "      <td>0.0</td>\n",
              "      <td>29</td>\n",
              "      <td>...</td>\n",
              "      <td>7.925966</td>\n",
              "      <td>62.0</td>\n",
              "      <td>0.0</td>\n",
              "      <td>98.181818</td>\n",
              "      <td>43.724696</td>\n",
              "      <td>9.911882e+05</td>\n",
              "      <td>23.200000</td>\n",
              "      <td>57.407407</td>\n",
              "      <td>3.759679e+06</td>\n",
              "      <td>8.519961</td>\n",
              "    </tr>\n",
              "    <tr>\n",
              "      <th>4</th>\n",
              "      <td>c60be70309789b39355dc612f36e37090ccad5dc</td>\n",
              "      <td>80700000.0</td>\n",
              "      <td>10</td>\n",
              "      <td>9.0</td>\n",
              "      <td>172</td>\n",
              "      <td>83</td>\n",
              "      <td>76.0</td>\n",
              "      <td>7.0</td>\n",
              "      <td>0.0</td>\n",
              "      <td>23</td>\n",
              "      <td>...</td>\n",
              "      <td>0.099128</td>\n",
              "      <td>44.0</td>\n",
              "      <td>0.0</td>\n",
              "      <td>91.566265</td>\n",
              "      <td>44.186047</td>\n",
              "      <td>9.722892e+05</td>\n",
              "      <td>21.698113</td>\n",
              "      <td>57.894737</td>\n",
              "      <td>3.508696e+06</td>\n",
              "      <td>8.727824</td>\n",
              "    </tr>\n",
              "    <tr>\n",
              "      <th>6</th>\n",
              "      <td>a22a58c5be8aa2c2700619e37f2b7a6e4efa7e6b</td>\n",
              "      <td>100422200.0</td>\n",
              "      <td>11</td>\n",
              "      <td>11.0</td>\n",
              "      <td>288</td>\n",
              "      <td>103</td>\n",
              "      <td>98.0</td>\n",
              "      <td>5.0</td>\n",
              "      <td>0.0</td>\n",
              "      <td>38</td>\n",
              "      <td>...</td>\n",
              "      <td>0.274017</td>\n",
              "      <td>51.0</td>\n",
              "      <td>0.0</td>\n",
              "      <td>95.145631</td>\n",
              "      <td>34.027778</td>\n",
              "      <td>9.749728e+05</td>\n",
              "      <td>35.185185</td>\n",
              "      <td>52.040816</td>\n",
              "      <td>2.642689e+06</td>\n",
              "      <td>9.305354</td>\n",
              "    </tr>\n",
              "    <tr>\n",
              "      <th>...</th>\n",
              "      <td>...</td>\n",
              "      <td>...</td>\n",
              "      <td>...</td>\n",
              "      <td>...</td>\n",
              "      <td>...</td>\n",
              "      <td>...</td>\n",
              "      <td>...</td>\n",
              "      <td>...</td>\n",
              "      <td>...</td>\n",
              "      <td>...</td>\n",
              "      <td>...</td>\n",
              "      <td>...</td>\n",
              "      <td>...</td>\n",
              "      <td>...</td>\n",
              "      <td>...</td>\n",
              "      <td>...</td>\n",
              "      <td>...</td>\n",
              "      <td>...</td>\n",
              "      <td>...</td>\n",
              "      <td>...</td>\n",
              "      <td>...</td>\n",
              "    </tr>\n",
              "    <tr>\n",
              "      <th>1482</th>\n",
              "      <td>508e0627871ed482bd8ab34544e43e5d856a889c</td>\n",
              "      <td>33000000.0</td>\n",
              "      <td>4</td>\n",
              "      <td>4.0</td>\n",
              "      <td>94</td>\n",
              "      <td>33</td>\n",
              "      <td>33.0</td>\n",
              "      <td>0.0</td>\n",
              "      <td>0.0</td>\n",
              "      <td>10</td>\n",
              "      <td>...</td>\n",
              "      <td>1.052288</td>\n",
              "      <td>15.0</td>\n",
              "      <td>0.0</td>\n",
              "      <td>100.000000</td>\n",
              "      <td>35.106383</td>\n",
              "      <td>1.000000e+06</td>\n",
              "      <td>26.315789</td>\n",
              "      <td>45.454545</td>\n",
              "      <td>3.300000e+06</td>\n",
              "      <td>6.711842</td>\n",
              "    </tr>\n",
              "    <tr>\n",
              "      <th>1483</th>\n",
              "      <td>d525d6edf4b0c6362ddaa4814c3930a6a62bdc99</td>\n",
              "      <td>97600000.0</td>\n",
              "      <td>10</td>\n",
              "      <td>10.0</td>\n",
              "      <td>217</td>\n",
              "      <td>98</td>\n",
              "      <td>97.0</td>\n",
              "      <td>1.0</td>\n",
              "      <td>0.0</td>\n",
              "      <td>24</td>\n",
              "      <td>...</td>\n",
              "      <td>0.716111</td>\n",
              "      <td>64.0</td>\n",
              "      <td>0.0</td>\n",
              "      <td>98.979592</td>\n",
              "      <td>44.700461</td>\n",
              "      <td>9.959184e+05</td>\n",
              "      <td>21.818182</td>\n",
              "      <td>65.979381</td>\n",
              "      <td>4.066667e+06</td>\n",
              "      <td>8.524780</td>\n",
              "    </tr>\n",
              "    <tr>\n",
              "      <th>1484</th>\n",
              "      <td>b722e6209f2858faf0bf80947cadcbde586bb666</td>\n",
              "      <td>23788800.0</td>\n",
              "      <td>3</td>\n",
              "      <td>3.0</td>\n",
              "      <td>136</td>\n",
              "      <td>26</td>\n",
              "      <td>22.0</td>\n",
              "      <td>3.0</td>\n",
              "      <td>0.0</td>\n",
              "      <td>10</td>\n",
              "      <td>...</td>\n",
              "      <td>0.184549</td>\n",
              "      <td>6.0</td>\n",
              "      <td>0.0</td>\n",
              "      <td>84.615385</td>\n",
              "      <td>16.176471</td>\n",
              "      <td>9.149538e+05</td>\n",
              "      <td>22.222222</td>\n",
              "      <td>27.272727</td>\n",
              "      <td>2.378880e+06</td>\n",
              "      <td>6.659132</td>\n",
              "    </tr>\n",
              "    <tr>\n",
              "      <th>1486</th>\n",
              "      <td>b45e8d507778dab56f381a681c453cbf4d3b4050</td>\n",
              "      <td>46700000.0</td>\n",
              "      <td>10</td>\n",
              "      <td>8.0</td>\n",
              "      <td>141</td>\n",
              "      <td>53</td>\n",
              "      <td>45.0</td>\n",
              "      <td>9.0</td>\n",
              "      <td>0.0</td>\n",
              "      <td>20</td>\n",
              "      <td>...</td>\n",
              "      <td>0.103256</td>\n",
              "      <td>23.0</td>\n",
              "      <td>0.0</td>\n",
              "      <td>84.905660</td>\n",
              "      <td>31.914894</td>\n",
              "      <td>8.811321e+05</td>\n",
              "      <td>15.748031</td>\n",
              "      <td>51.111111</td>\n",
              "      <td>2.335000e+06</td>\n",
              "      <td>8.203376</td>\n",
              "    </tr>\n",
              "    <tr>\n",
              "      <th>1487</th>\n",
              "      <td>ea385e57f5d3d6841a6997dd7af680e135928bca</td>\n",
              "      <td>111000000.0</td>\n",
              "      <td>6</td>\n",
              "      <td>6.0</td>\n",
              "      <td>215</td>\n",
              "      <td>109</td>\n",
              "      <td>108.0</td>\n",
              "      <td>1.0</td>\n",
              "      <td>0.0</td>\n",
              "      <td>22</td>\n",
              "      <td>...</td>\n",
              "      <td>2.001699</td>\n",
              "      <td>74.0</td>\n",
              "      <td>2.0</td>\n",
              "      <td>99.082569</td>\n",
              "      <td>50.232558</td>\n",
              "      <td>1.018349e+06</td>\n",
              "      <td>20.754717</td>\n",
              "      <td>68.518519</td>\n",
              "      <td>5.045455e+06</td>\n",
              "      <td>7.745895</td>\n",
              "    </tr>\n",
              "  </tbody>\n",
              "</table>\n",
              "<p>734 rows × 22 columns</p>\n",
              "</div>\n",
              "    <div class=\"colab-df-buttons\">\n",
              "\n",
              "  <div class=\"colab-df-container\">\n",
              "    <button class=\"colab-df-convert\" onclick=\"convertToInteractive('df-68cfe410-ba79-48fe-8879-0b275dd22ae3')\"\n",
              "            title=\"Convert this dataframe to an interactive table.\"\n",
              "            style=\"display:none;\">\n",
              "\n",
              "  <svg xmlns=\"http://www.w3.org/2000/svg\" height=\"24px\" viewBox=\"0 -960 960 960\">\n",
              "    <path d=\"M120-120v-720h720v720H120Zm60-500h600v-160H180v160Zm220 220h160v-160H400v160Zm0 220h160v-160H400v160ZM180-400h160v-160H180v160Zm440 0h160v-160H620v160ZM180-180h160v-160H180v160Zm440 0h160v-160H620v160Z\"/>\n",
              "  </svg>\n",
              "    </button>\n",
              "\n",
              "  <style>\n",
              "    .colab-df-container {\n",
              "      display:flex;\n",
              "      gap: 12px;\n",
              "    }\n",
              "\n",
              "    .colab-df-convert {\n",
              "      background-color: #E8F0FE;\n",
              "      border: none;\n",
              "      border-radius: 50%;\n",
              "      cursor: pointer;\n",
              "      display: none;\n",
              "      fill: #1967D2;\n",
              "      height: 32px;\n",
              "      padding: 0 0 0 0;\n",
              "      width: 32px;\n",
              "    }\n",
              "\n",
              "    .colab-df-convert:hover {\n",
              "      background-color: #E2EBFA;\n",
              "      box-shadow: 0px 1px 2px rgba(60, 64, 67, 0.3), 0px 1px 3px 1px rgba(60, 64, 67, 0.15);\n",
              "      fill: #174EA6;\n",
              "    }\n",
              "\n",
              "    .colab-df-buttons div {\n",
              "      margin-bottom: 4px;\n",
              "    }\n",
              "\n",
              "    [theme=dark] .colab-df-convert {\n",
              "      background-color: #3B4455;\n",
              "      fill: #D2E3FC;\n",
              "    }\n",
              "\n",
              "    [theme=dark] .colab-df-convert:hover {\n",
              "      background-color: #434B5C;\n",
              "      box-shadow: 0px 1px 3px 1px rgba(0, 0, 0, 0.15);\n",
              "      filter: drop-shadow(0px 1px 2px rgba(0, 0, 0, 0.3));\n",
              "      fill: #FFFFFF;\n",
              "    }\n",
              "  </style>\n",
              "\n",
              "    <script>\n",
              "      const buttonEl =\n",
              "        document.querySelector('#df-68cfe410-ba79-48fe-8879-0b275dd22ae3 button.colab-df-convert');\n",
              "      buttonEl.style.display =\n",
              "        google.colab.kernel.accessAllowed ? 'block' : 'none';\n",
              "\n",
              "      async function convertToInteractive(key) {\n",
              "        const element = document.querySelector('#df-68cfe410-ba79-48fe-8879-0b275dd22ae3');\n",
              "        const dataTable =\n",
              "          await google.colab.kernel.invokeFunction('convertToInteractive',\n",
              "                                                    [key], {});\n",
              "        if (!dataTable) return;\n",
              "\n",
              "        const docLinkHtml = 'Like what you see? Visit the ' +\n",
              "          '<a target=\"_blank\" href=https://colab.research.google.com/notebooks/data_table.ipynb>data table notebook</a>'\n",
              "          + ' to learn more about interactive tables.';\n",
              "        element.innerHTML = '';\n",
              "        dataTable['output_type'] = 'display_data';\n",
              "        await google.colab.output.renderOutput(dataTable, element);\n",
              "        const docLink = document.createElement('div');\n",
              "        docLink.innerHTML = docLinkHtml;\n",
              "        element.appendChild(docLink);\n",
              "      }\n",
              "    </script>\n",
              "  </div>\n",
              "\n",
              "\n",
              "    <div id=\"df-b8e6e055-8f7f-47c7-8dbe-fc4b99eb39ec\">\n",
              "      <button class=\"colab-df-quickchart\" onclick=\"quickchart('df-b8e6e055-8f7f-47c7-8dbe-fc4b99eb39ec')\"\n",
              "                title=\"Suggest charts\"\n",
              "                style=\"display:none;\">\n",
              "\n",
              "<svg xmlns=\"http://www.w3.org/2000/svg\" height=\"24px\"viewBox=\"0 0 24 24\"\n",
              "     width=\"24px\">\n",
              "    <g>\n",
              "        <path d=\"M19 3H5c-1.1 0-2 .9-2 2v14c0 1.1.9 2 2 2h14c1.1 0 2-.9 2-2V5c0-1.1-.9-2-2-2zM9 17H7v-7h2v7zm4 0h-2V7h2v10zm4 0h-2v-4h2v4z\"/>\n",
              "    </g>\n",
              "</svg>\n",
              "      </button>\n",
              "\n",
              "<style>\n",
              "  .colab-df-quickchart {\n",
              "      --bg-color: #E8F0FE;\n",
              "      --fill-color: #1967D2;\n",
              "      --hover-bg-color: #E2EBFA;\n",
              "      --hover-fill-color: #174EA6;\n",
              "      --disabled-fill-color: #AAA;\n",
              "      --disabled-bg-color: #DDD;\n",
              "  }\n",
              "\n",
              "  [theme=dark] .colab-df-quickchart {\n",
              "      --bg-color: #3B4455;\n",
              "      --fill-color: #D2E3FC;\n",
              "      --hover-bg-color: #434B5C;\n",
              "      --hover-fill-color: #FFFFFF;\n",
              "      --disabled-bg-color: #3B4455;\n",
              "      --disabled-fill-color: #666;\n",
              "  }\n",
              "\n",
              "  .colab-df-quickchart {\n",
              "    background-color: var(--bg-color);\n",
              "    border: none;\n",
              "    border-radius: 50%;\n",
              "    cursor: pointer;\n",
              "    display: none;\n",
              "    fill: var(--fill-color);\n",
              "    height: 32px;\n",
              "    padding: 0;\n",
              "    width: 32px;\n",
              "  }\n",
              "\n",
              "  .colab-df-quickchart:hover {\n",
              "    background-color: var(--hover-bg-color);\n",
              "    box-shadow: 0 1px 2px rgba(60, 64, 67, 0.3), 0 1px 3px 1px rgba(60, 64, 67, 0.15);\n",
              "    fill: var(--button-hover-fill-color);\n",
              "  }\n",
              "\n",
              "  .colab-df-quickchart-complete:disabled,\n",
              "  .colab-df-quickchart-complete:disabled:hover {\n",
              "    background-color: var(--disabled-bg-color);\n",
              "    fill: var(--disabled-fill-color);\n",
              "    box-shadow: none;\n",
              "  }\n",
              "\n",
              "  .colab-df-spinner {\n",
              "    border: 2px solid var(--fill-color);\n",
              "    border-color: transparent;\n",
              "    border-bottom-color: var(--fill-color);\n",
              "    animation:\n",
              "      spin 1s steps(1) infinite;\n",
              "  }\n",
              "\n",
              "  @keyframes spin {\n",
              "    0% {\n",
              "      border-color: transparent;\n",
              "      border-bottom-color: var(--fill-color);\n",
              "      border-left-color: var(--fill-color);\n",
              "    }\n",
              "    20% {\n",
              "      border-color: transparent;\n",
              "      border-left-color: var(--fill-color);\n",
              "      border-top-color: var(--fill-color);\n",
              "    }\n",
              "    30% {\n",
              "      border-color: transparent;\n",
              "      border-left-color: var(--fill-color);\n",
              "      border-top-color: var(--fill-color);\n",
              "      border-right-color: var(--fill-color);\n",
              "    }\n",
              "    40% {\n",
              "      border-color: transparent;\n",
              "      border-right-color: var(--fill-color);\n",
              "      border-top-color: var(--fill-color);\n",
              "    }\n",
              "    60% {\n",
              "      border-color: transparent;\n",
              "      border-right-color: var(--fill-color);\n",
              "    }\n",
              "    80% {\n",
              "      border-color: transparent;\n",
              "      border-right-color: var(--fill-color);\n",
              "      border-bottom-color: var(--fill-color);\n",
              "    }\n",
              "    90% {\n",
              "      border-color: transparent;\n",
              "      border-bottom-color: var(--fill-color);\n",
              "    }\n",
              "  }\n",
              "</style>\n",
              "\n",
              "      <script>\n",
              "        async function quickchart(key) {\n",
              "          const quickchartButtonEl =\n",
              "            document.querySelector('#' + key + ' button');\n",
              "          quickchartButtonEl.disabled = true;  // To prevent multiple clicks.\n",
              "          quickchartButtonEl.classList.add('colab-df-spinner');\n",
              "          try {\n",
              "            const charts = await google.colab.kernel.invokeFunction(\n",
              "                'suggestCharts', [key], {});\n",
              "          } catch (error) {\n",
              "            console.error('Error during call to suggestCharts:', error);\n",
              "          }\n",
              "          quickchartButtonEl.classList.remove('colab-df-spinner');\n",
              "          quickchartButtonEl.classList.add('colab-df-quickchart-complete');\n",
              "        }\n",
              "        (() => {\n",
              "          let quickchartButtonEl =\n",
              "            document.querySelector('#df-b8e6e055-8f7f-47c7-8dbe-fc4b99eb39ec button');\n",
              "          quickchartButtonEl.style.display =\n",
              "            google.colab.kernel.accessAllowed ? 'block' : 'none';\n",
              "        })();\n",
              "      </script>\n",
              "    </div>\n",
              "\n",
              "  <div id=\"id_e4c6f339-03ca-4215-9346-bd9c6e4cc3b8\">\n",
              "    <style>\n",
              "      .colab-df-generate {\n",
              "        background-color: #E8F0FE;\n",
              "        border: none;\n",
              "        border-radius: 50%;\n",
              "        cursor: pointer;\n",
              "        display: none;\n",
              "        fill: #1967D2;\n",
              "        height: 32px;\n",
              "        padding: 0 0 0 0;\n",
              "        width: 32px;\n",
              "      }\n",
              "\n",
              "      .colab-df-generate:hover {\n",
              "        background-color: #E2EBFA;\n",
              "        box-shadow: 0px 1px 2px rgba(60, 64, 67, 0.3), 0px 1px 3px 1px rgba(60, 64, 67, 0.15);\n",
              "        fill: #174EA6;\n",
              "      }\n",
              "\n",
              "      [theme=dark] .colab-df-generate {\n",
              "        background-color: #3B4455;\n",
              "        fill: #D2E3FC;\n",
              "      }\n",
              "\n",
              "      [theme=dark] .colab-df-generate:hover {\n",
              "        background-color: #434B5C;\n",
              "        box-shadow: 0px 1px 3px 1px rgba(0, 0, 0, 0.15);\n",
              "        filter: drop-shadow(0px 1px 2px rgba(0, 0, 0, 0.3));\n",
              "        fill: #FFFFFF;\n",
              "      }\n",
              "    </style>\n",
              "    <button class=\"colab-df-generate\" onclick=\"generateWithVariable('df_test')\"\n",
              "            title=\"Generate code using this dataframe.\"\n",
              "            style=\"display:none;\">\n",
              "\n",
              "  <svg xmlns=\"http://www.w3.org/2000/svg\" height=\"24px\"viewBox=\"0 0 24 24\"\n",
              "       width=\"24px\">\n",
              "    <path d=\"M7,19H8.4L18.45,9,17,7.55,7,17.6ZM5,21V16.75L18.45,3.32a2,2,0,0,1,2.83,0l1.4,1.43a1.91,1.91,0,0,1,.58,1.4,1.91,1.91,0,0,1-.58,1.4L9.25,21ZM18.45,9,17,7.55Zm-12,3A5.31,5.31,0,0,0,4.9,8.1,5.31,5.31,0,0,0,1,6.5,5.31,5.31,0,0,0,4.9,4.9,5.31,5.31,0,0,0,6.5,1,5.31,5.31,0,0,0,8.1,4.9,5.31,5.31,0,0,0,12,6.5,5.46,5.46,0,0,0,6.5,12Z\"/>\n",
              "  </svg>\n",
              "    </button>\n",
              "    <script>\n",
              "      (() => {\n",
              "      const buttonEl =\n",
              "        document.querySelector('#id_e4c6f339-03ca-4215-9346-bd9c6e4cc3b8 button.colab-df-generate');\n",
              "      buttonEl.style.display =\n",
              "        google.colab.kernel.accessAllowed ? 'block' : 'none';\n",
              "\n",
              "      buttonEl.onclick = () => {\n",
              "        google.colab.notebook.generateWithVariable('df_test');\n",
              "      }\n",
              "      })();\n",
              "    </script>\n",
              "  </div>\n",
              "\n",
              "    </div>\n",
              "  </div>\n"
            ],
            "application/vnd.google.colaboratory.intrinsic+json": {
              "type": "dataframe",
              "variable_name": "df_test"
            }
          },
          "metadata": {},
          "execution_count": 49
        }
      ]
    },
    {
      "cell_type": "code",
      "source": [
        "df_test[['username', 'diemqt']].to_csv('predicted_scores_2.csv', index=False)"
      ],
      "metadata": {
        "id": "y_jUPbs3kLI1"
      },
      "execution_count": null,
      "outputs": []
    }
  ]
}